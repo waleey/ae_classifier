{
 "cells": [
  {
   "cell_type": "code",
   "execution_count": 33,
   "metadata": {},
   "outputs": [],
   "source": [
    "import re, os\n",
    "import pandas as pd\n",
    "import numpy as np\n",
    "os.chdir('/Users/walu/mdwarfs/')"
   ]
  },
  {
   "cell_type": "code",
   "execution_count": 11,
   "metadata": {},
   "outputs": [
    {
     "name": "stdout",
     "output_type": "stream",
     "text": [
      "Saved filtered catalog to 'filtered_stars.csv'\n"
     ]
    }
   ],
   "source": [
    "\n",
    "# Set of accepted variability classes\n",
    "valid_classes = {\n",
    "    'ACYG', 'BCEP', 'SPB', 'BCEPH', 'MAIA', 'MAIAH', 'MAIAU', 'LPB',\n",
    "    'GDOR', 'DSCT', 'roAP', 'SXPHE', 'SOLR', 'CEP', 'RR', 'RRAB',\n",
    "    'RRC', 'CW', 'CWA', 'CWB', 'RV', 'RVA', 'RVB', 'M', 'RPHS',\n",
    "    'SPHS', 'ZZ', 'ZZA', 'ZZB'\n",
    "}\n",
    "\n",
    "# Split on allowed delimiters: + / . , whitespace\n",
    "def split_classes(raw_class):\n",
    "    return re.split(r'[\\s+/.,]+', raw_class.strip().upper())\n",
    "\n",
    "# Check if variability class is fully valid\n",
    "def is_valid_class(variability):\n",
    "    if variability == '-' or variability.strip() == '':\n",
    "        return False\n",
    "    parts = split_classes(variability)\n",
    "    return all(part in valid_classes for part in parts)\n",
    "\n",
    "# Read and parse lines\n",
    "rows = []\n",
    "\n",
    "with open('table5.dat', 'r') as f:\n",
    "    for line in f:\n",
    "        if 'TIC' not in line:\n",
    "            continue\n",
    "\n",
    "        parts = line.strip().split()\n",
    "        try:\n",
    "            ra = float(parts[0])\n",
    "            dec = float(parts[1])\n",
    "            tic_index = parts.index('TIC')\n",
    "            tic_id = parts[tic_index + 1]\n",
    "            variability = parts[tic_index + 2] if tic_index + 2 < len(parts) else '-'\n",
    "\n",
    "            if not is_valid_class(variability):\n",
    "                continue\n",
    "\n",
    "            # Extract next fields if present\n",
    "            teff = parts[tic_index + 3] if tic_index + 3 < len(parts) else ''\n",
    "            radius = parts[tic_index + 4] if tic_index + 4 < len(parts) else ''\n",
    "            priority = parts[tic_index + 5] if tic_index + 5 < len(parts) else ''\n",
    "            period = ''\n",
    "            amp = ''\n",
    "            spec_type = ''\n",
    "\n",
    "            # Look ahead to identify numbers and text\n",
    "            remaining = parts[tic_index + 6:]\n",
    "            floats = [p for p in remaining if re.match(r'^-?\\d+\\.?\\d*$', p)]\n",
    "            strings = [p for p in remaining if not re.match(r'^-?\\d+\\.?\\d*$', p)]\n",
    "\n",
    "            if len(floats) == 1:\n",
    "                period = floats[0]\n",
    "            elif len(floats) >= 2:\n",
    "                period, amp = floats[:2]\n",
    "\n",
    "            if strings:\n",
    "                spec_type = ' '.join(strings)\n",
    "\n",
    "            rows.append({\n",
    "                'RA': ra,\n",
    "                'Dec': dec,\n",
    "                'TIC_ID': tic_id,\n",
    "                'VarClass': variability,\n",
    "                'Teff': teff,\n",
    "                'Radius': radius,\n",
    "                'Priority': priority,\n",
    "                'Period': period,\n",
    "                'Amplitude': amp,\n",
    "                'SpectralType': spec_type\n",
    "            })\n",
    "\n",
    "        except Exception:\n",
    "            continue  # skip any malformed line silently\n",
    "\n",
    "# Convert to DataFrame and save\n",
    "df = pd.DataFrame(rows)\n",
    "df.to_csv('filtered_pulsating_stars.csv', index=False)\n",
    "print(\"Saved filtered catalog to 'filtered_stars.csv'\")\n"
   ]
  },
  {
   "cell_type": "code",
   "execution_count": 19,
   "metadata": {},
   "outputs": [
    {
     "data": {
      "text/plain": [
       "array(['DSCT', 'GDOR', 'BCEP+SPB', 'ZZA', 'SPB', 'RRAB', 'SPHS', 'RRC',\n",
       "       'MAIA', 'RPHS', 'BCEP', 'MAIAU', 'ACYG', 'SPHS+RPHS', 'ACYG+GDOR',\n",
       "       'MAIAH', 'DSCT+SOLR', 'M', 'MAIA+SPB', 'SOLR', 'CW', 'RR',\n",
       "       'ACYG+SPB', 'ACYG+BCEP', 'MAIAH+SPB', 'SXPHE', 'RVA', 'DSCT/RRC',\n",
       "       'DSCT/SOLR'], dtype=object)"
      ]
     },
     "execution_count": 19,
     "metadata": {},
     "output_type": "execute_result"
    }
   ],
   "source": [
    "pd.unique(df['VarClass'])"
   ]
  },
  {
   "cell_type": "code",
   "execution_count": 35,
   "metadata": {},
   "outputs": [],
   "source": [
    "balona_puls_catalog = df['TIC_ID'].rename('TIC', inplace=True)\n",
    "balona_puls_catalog = np.int64(balona_puls_catalog)"
   ]
  },
  {
   "cell_type": "code",
   "execution_count": 36,
   "metadata": {},
   "outputs": [
    {
     "data": {
      "text/plain": [
       "16324"
      ]
     },
     "execution_count": 36,
     "metadata": {},
     "output_type": "execute_result"
    }
   ],
   "source": []
  },
  {
   "cell_type": "code",
   "execution_count": 29,
   "metadata": {},
   "outputs": [
    {
     "ename": "TypeError",
     "evalue": "cannot convert the series to <class 'int'>",
     "output_type": "error",
     "traceback": [
      "\u001b[0;31m---------------------------------------------------------------------------\u001b[0m",
      "\u001b[0;31mTypeError\u001b[0m                                 Traceback (most recent call last)",
      "Cell \u001b[0;32mIn[29], line 2\u001b[0m\n\u001b[1;32m      1\u001b[0m current_puls_cat \u001b[38;5;241m=\u001b[39m pd\u001b[38;5;241m.\u001b[39mread_csv(\u001b[38;5;124m'\u001b[39m\u001b[38;5;124mcurrent_pulsator_catalog.csv\u001b[39m\u001b[38;5;124m'\u001b[39m)\n\u001b[0;32m----> 2\u001b[0m current_tics \u001b[38;5;241m=\u001b[39m \u001b[38;5;28;43mint\u001b[39;49m\u001b[43m(\u001b[49m\u001b[43mcurrent_puls_cat\u001b[49m\u001b[43m[\u001b[49m\u001b[38;5;124;43m'\u001b[39;49m\u001b[38;5;124;43mTIC\u001b[39;49m\u001b[38;5;124;43m'\u001b[39;49m\u001b[43m]\u001b[49m\u001b[43m)\u001b[49m\n",
      "File \u001b[0;32m~/jupyter_env/lib/python3.13/site-packages/pandas/core/series.py:248\u001b[0m, in \u001b[0;36m_coerce_method.<locals>.wrapper\u001b[0;34m(self)\u001b[0m\n\u001b[1;32m    240\u001b[0m     warnings\u001b[38;5;241m.\u001b[39mwarn(\n\u001b[1;32m    241\u001b[0m         \u001b[38;5;124mf\u001b[39m\u001b[38;5;124m\"\u001b[39m\u001b[38;5;124mCalling \u001b[39m\u001b[38;5;132;01m{\u001b[39;00mconverter\u001b[38;5;241m.\u001b[39m\u001b[38;5;18m__name__\u001b[39m\u001b[38;5;132;01m}\u001b[39;00m\u001b[38;5;124m on a single element Series is \u001b[39m\u001b[38;5;124m\"\u001b[39m\n\u001b[1;32m    242\u001b[0m         \u001b[38;5;124m\"\u001b[39m\u001b[38;5;124mdeprecated and will raise a TypeError in the future. \u001b[39m\u001b[38;5;124m\"\u001b[39m\n\u001b[0;32m   (...)\u001b[0m\n\u001b[1;32m    245\u001b[0m         stacklevel\u001b[38;5;241m=\u001b[39mfind_stack_level(),\n\u001b[1;32m    246\u001b[0m     )\n\u001b[1;32m    247\u001b[0m     \u001b[38;5;28;01mreturn\u001b[39;00m converter(\u001b[38;5;28mself\u001b[39m\u001b[38;5;241m.\u001b[39miloc[\u001b[38;5;241m0\u001b[39m])\n\u001b[0;32m--> 248\u001b[0m \u001b[38;5;28;01mraise\u001b[39;00m \u001b[38;5;167;01mTypeError\u001b[39;00m(\u001b[38;5;124mf\u001b[39m\u001b[38;5;124m\"\u001b[39m\u001b[38;5;124mcannot convert the series to \u001b[39m\u001b[38;5;132;01m{\u001b[39;00mconverter\u001b[38;5;132;01m}\u001b[39;00m\u001b[38;5;124m\"\u001b[39m)\n",
      "\u001b[0;31mTypeError\u001b[0m: cannot convert the series to <class 'int'>"
     ]
    }
   ],
   "source": [
    "current_puls_cat = pd.read_csv('current_pulsator_catalog.csv')\n",
    "current_tics = current_puls_cat['TIC']"
   ]
  },
  {
   "cell_type": "code",
   "execution_count": 38,
   "metadata": {},
   "outputs": [
    {
     "name": "stdout",
     "output_type": "stream",
     "text": [
      "Fake pulsators in current catalog: 2142\n"
     ]
    }
   ],
   "source": [
    "#filtering the current tics that are in balona_puls_catalog\n",
    "fake_pulsator_in_current = current_tics[~current_tics.isin(balona_puls_catalog)]\n",
    "print(f\"Fake pulsators in current catalog: {len(fake_pulsator_in_current)}\")\n",
    "fake_pulsator_in_current.to_csv('fake_pulsators_in_current.csv', index=False)"
   ]
  },
  {
   "cell_type": "code",
   "execution_count": 41,
   "metadata": {},
   "outputs": [
    {
     "name": "stdout",
     "output_type": "stream",
     "text": [
      "New pure pulsators: 3266\n"
     ]
    }
   ],
   "source": [
    "new_pure_pulsator = balona_puls_catalog[~np.isin(balona_puls_catalog, current_tics)]\n",
    "print(f\"New pure pulsators: {len(new_pure_pulsator)}\")\n",
    "new_pure_pulsator = pd.DataFrame(new_pure_pulsator, columns=['TIC'])\n",
    "new_pure_pulsator.to_csv('new_pure_pulsators.csv', index=False)"
   ]
  },
  {
   "cell_type": "code",
   "execution_count": 24,
   "metadata": {},
   "outputs": [
    {
     "name": "stdout",
     "output_type": "stream",
     "text": [
      "Unique Balona pulsators not in current catalog: 16324\n"
     ]
    }
   ],
   "source": [
    "balona_unique = balona_puls_catalog[~balona_puls_catalog.isin(current_tics)]\n",
    "print(f\"Unique Balona pulsators not in current catalog: {len(balona_unique)}\")"
   ]
  },
  {
   "cell_type": "code",
   "execution_count": 25,
   "metadata": {},
   "outputs": [
    {
     "name": "stdout",
     "output_type": "stream",
     "text": [
      "Common elements between Balona catalog and current catalog: 0\n"
     ]
    }
   ],
   "source": [
    "common_elements = balona_puls_catalog[balona_puls_catalog.isin(current_tics)]\n",
    "print(f\"Common elements between Balona catalog and current catalog: {len(common_elements)}\")"
   ]
  },
  {
   "cell_type": "code",
   "execution_count": null,
   "metadata": {},
   "outputs": [],
   "source": []
  },
  {
   "cell_type": "code",
   "execution_count": 30,
   "metadata": {},
   "outputs": [
    {
     "data": {
      "text/plain": [
       "np.int64(100102390)"
      ]
     },
     "execution_count": 30,
     "metadata": {},
     "output_type": "execute_result"
    }
   ],
   "source": [
    "current_tics[0]"
   ]
  }
 ],
 "metadata": {
  "kernelspec": {
   "display_name": "vscode (jupyter_env)",
   "language": "python",
   "name": "jupyter_env"
  }
 },
 "nbformat": 4,
 "nbformat_minor": 2
}
